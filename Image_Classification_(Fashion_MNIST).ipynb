{
  "nbformat": 4,
  "nbformat_minor": 0,
  "metadata": {
    "colab": {
      "name": "Image Classification (Fashion MNIST).ipynb",
      "provenance": [],
      "collapsed_sections": [],
      "toc_visible": true
    },
    "kernelspec": {
      "name": "python3",
      "display_name": "Python 3"
    }
  },
  "cells": [
    {
      "cell_type": "markdown",
      "metadata": {
        "id": "fKW-4hRIpilF"
      },
      "source": [
        "# Importing the Packages"
      ]
    },
    {
      "cell_type": "code",
      "metadata": {
        "id": "vjkHdIu_pnOp"
      },
      "source": [
        "import tensorflow as tf\n",
        "import numpy as np\n",
        "import matplotlib.pyplot as plt\n",
        "from tensorflow.keras.layers import Input, Conv2D, Dense, Dropout, Flatten\n",
        "from tensorflow.keras.models import Model"
      ],
      "execution_count": null,
      "outputs": []
    },
    {
      "cell_type": "markdown",
      "metadata": {
        "id": "72haH-Emq4C5"
      },
      "source": [
        "# Loading the data"
      ]
    },
    {
      "cell_type": "markdown",
      "metadata": {
        "id": "e_-AhV1Dq7t1"
      },
      "source": [
        "Fashion MNIST consists of 70000 (60000 for training and 10000 for testing) grayscale images.\n",
        "\n",
        "Size of images : 28 x 28\n",
        "\n",
        "These images are of different types of clothing items. "
      ]
    },
    {
      "cell_type": "code",
      "metadata": {
        "id": "hbkgvji2qJHs"
      },
      "source": [
        "data = tf.keras.datasets.fashion_mnist"
      ],
      "execution_count": null,
      "outputs": []
    },
    {
      "cell_type": "code",
      "metadata": {
        "id": "1Ab9AbzvrbxY"
      },
      "source": [
        "(X_train,y_train) , (X_test,y_test) = data.load_data() "
      ],
      "execution_count": null,
      "outputs": []
    },
    {
      "cell_type": "code",
      "metadata": {
        "id": "qQcq3AxUrwXu"
      },
      "source": [
        "# Standardization\n",
        "X_train , X_test = X_train / 255.0 , X_test / 255.0"
      ],
      "execution_count": null,
      "outputs": []
    },
    {
      "cell_type": "code",
      "metadata": {
        "id": "cNgX-TfLtEC1",
        "outputId": "2f2729d2-298c-43c9-fe73-2ae7be0f9e58",
        "colab": {
          "base_uri": "https://localhost:8080/"
        }
      },
      "source": [
        "X_train.shape"
      ],
      "execution_count": null,
      "outputs": [
        {
          "output_type": "execute_result",
          "data": {
            "text/plain": [
              "(60000, 28, 28)"
            ]
          },
          "metadata": {
            "tags": []
          },
          "execution_count": 14
        }
      ]
    },
    {
      "cell_type": "code",
      "metadata": {
        "id": "uS5UEb8nDfet"
      },
      "source": [
        "# The shape of X_train is 60000 x 28 x 28 i.e. N x H x W but CNN expects the shape to be N x H x W x C so \n",
        "# we will reshape it to 60000 x 28 x 28 x 1 (Adding a superfluous layer).\n",
        "# Same will be done for X_test also.\n",
        "\n",
        "X_train = np.expand_dims(X_train,-1)\n",
        "X_test = np.expand_dims(X_test,-1)\n",
        " \n",
        " # expand_dims() : Expand the shape of an array."
      ],
      "execution_count": null,
      "outputs": []
    },
    {
      "cell_type": "code",
      "metadata": {
        "id": "zeDKGe8cFXKv",
        "outputId": "aab74ffb-3b45-4b3f-be86-a605eed58a05",
        "colab": {
          "base_uri": "https://localhost:8080/"
        }
      },
      "source": [
        "print(X_train.shape)\n",
        "print(X_test.shape)"
      ],
      "execution_count": null,
      "outputs": [
        {
          "output_type": "stream",
          "text": [
            "(60000, 28, 28, 1)\n",
            "(10000, 28, 28, 1)\n"
          ],
          "name": "stdout"
        }
      ]
    },
    {
      "cell_type": "code",
      "metadata": {
        "id": "sKI1IrP4FdTh",
        "outputId": "1edf7b64-6ea3-4d51-a74c-204a22bcd01b",
        "colab": {
          "base_uri": "https://localhost:8080/"
        }
      },
      "source": [
        "# Finding out the number of classes\n",
        "\n",
        "k = len(set(y_train))\n",
        "print(k)"
      ],
      "execution_count": null,
      "outputs": [
        {
          "output_type": "stream",
          "text": [
            "10\n"
          ],
          "name": "stdout"
        }
      ]
    },
    {
      "cell_type": "markdown",
      "metadata": {
        "id": "pUMz1IpqGbOi"
      },
      "source": [
        "# Building the model using functional API"
      ]
    },
    {
      "cell_type": "code",
      "metadata": {
        "id": "hhx_tfNaGhDx",
        "outputId": "bdb39869-f345-476c-c43f-fef37213addf",
        "colab": {
          "base_uri": "https://localhost:8080/"
        }
      },
      "source": [
        "i = Input(shape=X_train[0].shape)\n",
        "x = Conv2D(32, (3,3), strides=2, activation='relu')(i)\n",
        "x = Conv2D(64, (3,3), strides=2, activation='relu')(x)\n",
        "x = Conv2D(128, (3,3), strides=2, activation='relu')(x)\n",
        "x = Flatten()(x)\n",
        "x = Dropout(0.2)(x)\n",
        "x = Dense(512, activation='relu')(x)\n",
        "x = Dropout(0.2)(x)\n",
        "x = Dense(k, activation='softmax')(x)\n",
        "\n",
        "model = Model(i,x)\n",
        "\n",
        "# Compiling\n",
        "model.compile(optimizer = 'adam',\n",
        "              loss = 'sparse_categorical_crossentropy',\n",
        "              metrics = ['accuracy'])\n",
        "\n",
        "# Fitting\n",
        "r = model.fit(X_train,y_train,validation_data=(X_test,y_test),epochs=15)"
      ],
      "execution_count": null,
      "outputs": [
        {
          "output_type": "stream",
          "text": [
            "Epoch 1/15\n",
            "1875/1875 [==============================] - 29s 16ms/step - loss: 0.5216 - accuracy: 0.8067 - val_loss: 0.4011 - val_accuracy: 0.8520\n",
            "Epoch 2/15\n",
            "1875/1875 [==============================] - 27s 14ms/step - loss: 0.3650 - accuracy: 0.8629 - val_loss: 0.3546 - val_accuracy: 0.8659\n",
            "Epoch 3/15\n",
            "1875/1875 [==============================] - 27s 14ms/step - loss: 0.3151 - accuracy: 0.8827 - val_loss: 0.3266 - val_accuracy: 0.8800\n",
            "Epoch 4/15\n",
            "1875/1875 [==============================] - 26s 14ms/step - loss: 0.2829 - accuracy: 0.8925 - val_loss: 0.3159 - val_accuracy: 0.8836\n",
            "Epoch 5/15\n",
            "1875/1875 [==============================] - 27s 14ms/step - loss: 0.2575 - accuracy: 0.9023 - val_loss: 0.2991 - val_accuracy: 0.8906\n",
            "Epoch 6/15\n",
            "1875/1875 [==============================] - 27s 14ms/step - loss: 0.2362 - accuracy: 0.9105 - val_loss: 0.2966 - val_accuracy: 0.8954\n",
            "Epoch 7/15\n",
            "1875/1875 [==============================] - 26s 14ms/step - loss: 0.2208 - accuracy: 0.9169 - val_loss: 0.3053 - val_accuracy: 0.8947\n",
            "Epoch 8/15\n",
            "1875/1875 [==============================] - 27s 14ms/step - loss: 0.2036 - accuracy: 0.9224 - val_loss: 0.2976 - val_accuracy: 0.8951\n",
            "Epoch 9/15\n",
            "1875/1875 [==============================] - 27s 14ms/step - loss: 0.1898 - accuracy: 0.9287 - val_loss: 0.3014 - val_accuracy: 0.8958\n",
            "Epoch 10/15\n",
            "1875/1875 [==============================] - 27s 14ms/step - loss: 0.1796 - accuracy: 0.9317 - val_loss: 0.3112 - val_accuracy: 0.8972\n",
            "Epoch 11/15\n",
            "1875/1875 [==============================] - 27s 14ms/step - loss: 0.1661 - accuracy: 0.9368 - val_loss: 0.3152 - val_accuracy: 0.8983\n",
            "Epoch 12/15\n",
            "1875/1875 [==============================] - 27s 15ms/step - loss: 0.1572 - accuracy: 0.9394 - val_loss: 0.3161 - val_accuracy: 0.8999\n",
            "Epoch 13/15\n",
            "1875/1875 [==============================] - 29s 15ms/step - loss: 0.1446 - accuracy: 0.9444 - val_loss: 0.3290 - val_accuracy: 0.9000\n",
            "Epoch 14/15\n",
            "1875/1875 [==============================] - 27s 14ms/step - loss: 0.1414 - accuracy: 0.9464 - val_loss: 0.3797 - val_accuracy: 0.8894\n",
            "Epoch 15/15\n",
            "1875/1875 [==============================] - 26s 14ms/step - loss: 0.1330 - accuracy: 0.9485 - val_loss: 0.3759 - val_accuracy: 0.8924\n"
          ],
          "name": "stdout"
        }
      ]
    },
    {
      "cell_type": "markdown",
      "metadata": {
        "id": "gjBWEL6WNN_i"
      },
      "source": [
        "# Loss per Iteration"
      ]
    },
    {
      "cell_type": "code",
      "metadata": {
        "id": "dmyJnzUBNR_P",
        "outputId": "40425619-9a29-4f74-da18-a3bbd50dc813",
        "colab": {
          "base_uri": "https://localhost:8080/",
          "height": 282
        }
      },
      "source": [
        "plt.plot(r.history['loss'],label='Loss')\n",
        "plt.plot(r.history['val_loss'],label='Validation Loss')\n",
        "plt.legend()"
      ],
      "execution_count": null,
      "outputs": [
        {
          "output_type": "execute_result",
          "data": {
            "text/plain": [
              "<matplotlib.legend.Legend at 0x7f73af459a20>"
            ]
          },
          "metadata": {
            "tags": []
          },
          "execution_count": 21
        },
        {
          "output_type": "display_data",
          "data": {
            "image/png": "[encoded data removed]",
            "text/plain": [
              "<Figure size 432x288 with 1 Axes>"
            ]
          },
          "metadata": {
            "tags": [],
            "needs_background": "light"
          }
        }
      ]
    },
    {
      "cell_type": "markdown",
      "metadata": {
        "id": "yG_QUZWSQu36"
      },
      "source": [
        "It appears that the model is overfitting a little."
      ]
    },
    {
      "cell_type": "markdown",
      "metadata": {
        "id": "Vva3rJl1N9fi"
      },
      "source": [
        "# Accuracy per Iteration"
      ]
    },
    {
      "cell_type": "code",
      "metadata": {
        "id": "oz1yeLbOOBo-",
        "outputId": "3de7a901-4bd2-4946-d15e-46e216113ddf",
        "colab": {
          "base_uri": "https://localhost:8080/",
          "height": 282
        }
      },
      "source": [
        "plt.plot(r.history['accuracy'],label='Accuracy')\n",
        "plt.plot(r.history['val_accuracy'],label='Validation Accuracy')\n",
        "plt.legend()"
      ],
      "execution_count": null,
      "outputs": [
        {
          "output_type": "execute_result",
          "data": {
            "text/plain": [
              "<matplotlib.legend.Legend at 0x7f73aebecb70>"
            ]
          },
          "metadata": {
            "tags": []
          },
          "execution_count": 22
        },
        {
          "output_type": "display_data",
          "data": {
            "image/png": "[encoded data removed]",
            "text/plain": [
              "<Figure size 432x288 with 1 Axes>"
            ]
          },
          "metadata": {
            "tags": [],
            "needs_background": "light"
          }
        }
      ]
    },
    {
      "cell_type": "markdown",
      "metadata": {
        "id": "aEuyuHdhRh_3"
      },
      "source": [
        "As we can see that the validation accuracy remains some what constant but the validation loss is increasing this means that our model is becoming confident of the incorrect predictions it has made."
      ]
    },
    {
      "cell_type": "markdown",
      "metadata": {
        "id": "vhMzMZ6uR2bL"
      },
      "source": [
        "# Confusion Matrix"
      ]
    },
    {
      "cell_type": "code",
      "metadata": {
        "id": "T4PG4Le8PSfl",
        "outputId": "53c9636e-df7e-488e-fc78-764ebe624996",
        "colab": {
          "base_uri": "https://localhost:8080/",
          "height": 505
        }
      },
      "source": [
        "from sklearn.metrics import confusion_matrix\n",
        "import itertools\n",
        "\n",
        "def plot_confusion_matrix(cm, classes,\n",
        "                          normalize=False,\n",
        "                          title='Confusion matrix',\n",
        "                          cmap=plt.cm.Blues):\n",
        "  \"\"\"\n",
        "  This function prints and plots the confusion matrix.\n",
        "  Normalization can be applied by setting `normalize=True`.\n",
        "  \"\"\"\n",
        "  if normalize:\n",
        "      cm = cm.astype('float') / cm.sum(axis=1)[:, np.newaxis]\n",
        "      print(\"Normalized confusion matrix\")\n",
        "  else:\n",
        "      print('Confusion matrix, without normalization')\n",
        "\n",
        "  print(cm)\n",
        "\n",
        "  plt.imshow(cm, interpolation='nearest', cmap=cmap)\n",
        "  plt.title(title)\n",
        "  plt.colorbar()\n",
        "  tick_marks = np.arange(len(classes))\n",
        "  plt.xticks(tick_marks, classes, rotation=45)\n",
        "  plt.yticks(tick_marks, classes)\n",
        "\n",
        "  fmt = '.2f' if normalize else 'd'\n",
        "  thresh = cm.max() / 2.\n",
        "  for i, j in itertools.product(range(cm.shape[0]), range(cm.shape[1])):\n",
        "      plt.text(j, i, format(cm[i, j], fmt),\n",
        "               horizontalalignment=\"center\",\n",
        "               color=\"white\" if cm[i, j] > thresh else \"black\")\n",
        "\n",
        "  plt.tight_layout()\n",
        "  plt.ylabel('True label')\n",
        "  plt.xlabel('Predicted label')\n",
        "  plt.show()\n",
        "\n",
        "\n",
        "p_test = model.predict(X_test).argmax(axis=1)\n",
        "cm = confusion_matrix(y_test, p_test)\n",
        "plot_confusion_matrix(cm, list(range(10)))\n"
      ],
      "execution_count": null,
      "outputs": [
        {
          "output_type": "stream",
          "text": [
            "Confusion matrix, without normalization\n",
            "[[885   0  19  12   4   1  72   0   6   1]\n",
            " [  3 972   2  11   4   0   4   0   4   0]\n",
            " [ 13   0 837   8  60   0  79   0   3   0]\n",
            " [ 21   2  22 886  40   2  27   0   0   0]\n",
            " [  1   0  69  17 791   0 117   0   5   0]\n",
            " [  0   0   0   2   0 971   0  19   0   8]\n",
            " [150   0  71  26  56   1 681   0  15   0]\n",
            " [  0   0   0   0   0  11   0 969   1  19]\n",
            " [  3   0   4   3   2   3   5   3 976   1]\n",
            " [  1   0   0   0   0   5   0  38   0 956]]\n"
          ],
          "name": "stdout"
        },
        {
          "output_type": "display_data",
          "data": {
            "image/png": "[encoded data removed]",
            "text/plain": [
              "<Figure size 432x288 with 2 Axes>"
            ]
          },
          "metadata": {
            "tags": [],
            "needs_background": "light"
          }
        }
      ]
    },
    {
      "cell_type": "markdown",
      "metadata": {
        "id": "361IIXcMTHEj"
      },
      "source": [
        "# Observation"
      ]
    },
    {
      "cell_type": "code",
      "metadata": {
        "id": "g1Vc1MKETK3X",
        "outputId": "a7e1b42b-b608-4e0a-ec6c-b21c4a816a56",
        "colab": {
          "base_uri": "https://localhost:8080/"
        }
      },
      "source": [
        "# label mapping\n",
        "labels = '''T-shirt/top\n",
        "Trouser\n",
        "Pullover\n",
        "Dress\n",
        "Coat\n",
        "Sandal\n",
        "Shirt\n",
        "Sneaker\n",
        "Bag\n",
        "Ankle boot'''.split(\"\\n\")\n",
        "labels"
      ],
      "execution_count": null,
      "outputs": [
        {
          "output_type": "execute_result",
          "data": {
            "text/plain": [
              "['T-shirt/top',\n",
              " 'Trouser',\n",
              " 'Pullover',\n",
              " 'Dress',\n",
              " 'Coat',\n",
              " 'Sandal',\n",
              " 'Shirt',\n",
              " 'Sneaker',\n",
              " 'Bag',\n",
              " 'Ankle boot']"
            ]
          },
          "metadata": {
            "tags": []
          },
          "execution_count": 25
        }
      ]
    },
    {
      "cell_type": "code",
      "metadata": {
        "id": "h0FBG6mtTLos",
        "outputId": "d8b0c3c7-84df-41e9-943e-cba8410c21b0",
        "colab": {
          "base_uri": "https://localhost:8080/",
          "height": 281
        }
      },
      "source": [
        "# misclassified examples\n",
        "misclassified_img = np.where(p_test != y_test)[0]\n",
        "i = np.random.choice(misclassified_img)\n",
        "plt.imshow(X_test[i].reshape(28,28), cmap = 'gray')\n",
        "plt.title(\"True label: %s Predicted: %s \" %(labels[y_test[i]], labels[p_test[i]]));"
      ],
      "execution_count": null,
      "outputs": [
        {
          "output_type": "display_data",
          "data": {
            "image/png": "[encoded data removed]",
            "text/plain": [
              "<Figure size 432x288 with 1 Axes>"
            ]
          },
          "metadata": {
            "tags": [],
            "needs_background": "light"
          }
        }
      ]
    },
    {
      "cell_type": "code",
      "metadata": {
        "id": "Pc6ysnDTUH6q",
        "outputId": "392f0e8d-3063-400a-be66-1d640c646c00",
        "colab": {
          "base_uri": "https://localhost:8080/",
          "height": 281
        }
      },
      "source": [
        "misclassified_img = np.where(p_test != y_test)[0]\n",
        "i = np.random.choice(misclassified_img)\n",
        "plt.imshow(X_test[i].reshape(28,28), cmap = 'gray')\n",
        "plt.title(\"True label: %s Predicted: %s \" %(labels[y_test[i]], labels[p_test[i]]));"
      ],
      "execution_count": null,
      "outputs": [
        {
          "output_type": "display_data",
          "data": {
            "image/png": "[encoded data removed]",
            "text/plain": [
              "<Figure size 432x288 with 1 Axes>"
            ]
          },
          "metadata": {
            "tags": [],
            "needs_background": "light"
          }
        }
      ]
    },
    {
      "cell_type": "markdown",
      "metadata": {
        "id": "9pg7xoFtU6Sn"
      },
      "source": [
        "As we can see the model has misclassified the examples which are even hard to classify through a human eye with such small image size. This means that it has still done a pretty good job."
      ]
    },
    {
      "cell_type": "markdown",
      "metadata": {
        "id": "GCjMEZKObdx7"
      },
      "source": [
        "# By: Rashi Saluja"
      ]
    },
    {
      "cell_type": "code",
      "metadata": {
        "id": "qb2r3hFZUQG9"
      },
      "source": [
        ""
      ],
      "execution_count": null,
      "outputs": []
    }
  ]
}